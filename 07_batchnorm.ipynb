{
 "cells": [
  {
   "cell_type": "code",
   "execution_count": 1,
   "metadata": {},
   "outputs": [],
   "source": [
    "%load_ext autoreload\n",
    "%autoreload 2\n",
    "\n",
    "%matplotlib inline"
   ]
  },
  {
   "cell_type": "code",
   "execution_count": 2,
   "metadata": {},
   "outputs": [],
   "source": [
    "#export\n",
    "from exp.nb_06 import *"
   ]
  },
  {
   "cell_type": "markdown",
   "metadata": {},
   "source": [
    "# ConvNet"
   ]
  },
  {
   "cell_type": "code",
   "execution_count": 3,
   "metadata": {},
   "outputs": [],
   "source": [
    "x_train,y_train,x_valid,y_valid = get_data()\n",
    "\n",
    "x_train,x_valid = normalize_to(x_train,x_valid)\n",
    "train_ds,valid_ds = Dataset(x_train, y_train),Dataset(x_valid, y_valid)\n",
    "\n",
    "nh,bs = 50,512\n",
    "c = y_train.max().item()+1\n",
    "loss_func = F.cross_entropy\n",
    "\n",
    "data = DataBunch(*get_dls(train_ds, valid_ds, bs), c)"
   ]
  },
  {
   "cell_type": "code",
   "execution_count": 4,
   "metadata": {},
   "outputs": [],
   "source": [
    "mnist_view = view_tfm(1, 28, 28)\n",
    "cbfs = [Recorder,\n",
    "       partial(AvgStatsCallback, accuracy),\n",
    "       CudaCallback,\n",
    "        partial(BatchTransformXCallback, mnist_view)]"
   ]
  },
  {
   "cell_type": "code",
   "execution_count": 5,
   "metadata": {},
   "outputs": [],
   "source": [
    "nfs = [8, 16, 32, 64, 64]"
   ]
  },
  {
   "cell_type": "code",
   "execution_count": 6,
   "metadata": {},
   "outputs": [],
   "source": [
    "learn, run = get_learn_run(nfs, data, 0.4, conv_layer, cbs=cbfs)"
   ]
  },
  {
   "cell_type": "code",
   "execution_count": 7,
   "metadata": {},
   "outputs": [
    {
     "name": "stdout",
     "output_type": "stream",
     "text": [
      "train : [1.2607128125, tensor(0.5896, device='cuda:0')]\n",
      "valid : [0.1899711669921875, tensor(0.9419, device='cuda:0')]\n",
      "train : [0.19260369140625, tensor(0.9416, device='cuda:0')]\n",
      "valid : [0.09994819946289063, tensor(0.9692, device='cuda:0')]\n",
      "CPU times: user 4.35 s, sys: 928 ms, total: 5.28 s\n",
      "Wall time: 5.31 s\n"
     ]
    }
   ],
   "source": [
    "%time run.fit(2, learn)"
   ]
  },
  {
   "cell_type": "markdown",
   "metadata": {},
   "source": [
    "# Batchnorm \n",
    "\n",
    "normalize then multiply by gamma and add with beta"
   ]
  },
  {
   "cell_type": "code",
   "execution_count": 8,
   "metadata": {},
   "outputs": [],
   "source": [
    "class BatchNorm(nn.Module):\n",
    "    def __init__(self, nf, mom=0.1, eps=1e-5):\n",
    "        super().__init__()\n",
    "        self.mom, self.eps = mom, eps\n",
    "        # mults = gamma, adds = beta, they are parameters\n",
    "        self.mults = nn.Parameter(torch.ones(nf, 1, 1))\n",
    "        self.adds = nn.Parameter(torch.zeros(nf, 1, 1))\n",
    "        # saves automatically\n",
    "        self.register_buffer('vars', torch.ones(1, nf, 1, 1))\n",
    "        self.register_buffer('means', torch.zeros(1, nf, 1, 1))\n",
    "        \n",
    "    def update_stats(self, x):\n",
    "        # get mean and var \n",
    "        # average(batches, length, width) > mean for each channel\n",
    "        m = x.mean((0, 2, 3), keepdim=True)\n",
    "        v = x.var((0, 2, 3), keepdim=True)\n",
    "        # running average / exponentially weighted moving average\n",
    "        # linear interpolation\n",
    "        self.means.lerp_(m, self.mom)\n",
    "        self.vars.lerp_(v, self.mom)\n",
    "        return m, v\n",
    "    \n",
    "    def forward(self, x):\n",
    "        if self.training:\n",
    "            # get mean and var first\n",
    "            with torch.no_grad(): m,v = self.update_stats(x)\n",
    "        # when not training, use running average\n",
    "        else: m,v = self.means, self.vars\n",
    "        # normalize\n",
    "        x = (x-m) / (v+self.eps).sqrt()\n",
    "        return x*self.mults + self.adds"
   ]
  },
  {
   "cell_type": "code",
   "execution_count": 9,
   "metadata": {},
   "outputs": [],
   "source": [
    "def conv_layer(ni, nf, ks=3, stride=2, bn=True, **kwargs):\n",
    "    # No bias needed if using bn\n",
    "    layers = [nn.Conv2d(ni, nf, ks, padding=ks//2, stride=stride, bias=not bn),\n",
    "              GeneralRelu(**kwargs)]\n",
    "    if bn: layers.append(BatchNorm(nf))\n",
    "    return nn.Sequential(*layers)"
   ]
  },
  {
   "cell_type": "code",
   "execution_count": 10,
   "metadata": {},
   "outputs": [],
   "source": [
    "#export \n",
    "def init_cnn_(m, f):\n",
    "    # zero out every bias\n",
    "    if isinstance(m, nn.Conv2d):\n",
    "        f(m.weight, a=0.1)\n",
    "        if getattr(m, 'bias', None) is not None: m.bias.data.zero_()\n",
    "    # check every layer\n",
    "    for l in m.children(): init_cnn_(l, f)\n",
    "        \n",
    "def init_cnn(m, uniform=False):\n",
    "    # kaiming init\n",
    "    f = init.kaiming_uniform_ if uniform else init.kaiming_normal_\n",
    "    init_cnn_(m,f)\n",
    "    \n",
    "def get_learn_run(nfs, data, lr, layer, cbs=None, opt_func=None, uniform=False, **kwargs):\n",
    "    model = get_cnn_model(data, nfs, layer, **kwargs)\n",
    "    init_cnn(model, uniform=uniform)\n",
    "    return get_runner(model, data, lr=lr, cbs=cbs, opt_func=opt_func)"
   ]
  },
  {
   "cell_type": "code",
   "execution_count": 11,
   "metadata": {},
   "outputs": [],
   "source": [
    "#lr = 0.9\n",
    "learn, run = get_learn_run(nfs, data, 0.9, conv_layer, cbs=cbfs)"
   ]
  },
  {
   "cell_type": "code",
   "execution_count": 12,
   "metadata": {},
   "outputs": [
    {
     "name": "stdout",
     "output_type": "stream",
     "text": [
      "train : [0.296338203125, tensor(0.9056, device='cuda:0')]\n",
      "valid : [0.12818370361328124, tensor(0.9619, device='cuda:0')]\n"
     ]
    },
    {
     "data": {
      "image/png": "[encoded data removed]",
      "text/plain": [
       "<Figure size 720x288 with 2 Axes>"
      ]
     },
     "metadata": {
      "needs_background": "light"
     },
     "output_type": "display_data"
    },
    {
     "data": {
      "image/png": "[encoded data removed]",
      "text/plain": [
       "<Figure size 720x288 with 2 Axes>"
      ]
     },
     "metadata": {
      "needs_background": "light"
     },
     "output_type": "display_data"
    }
   ],
   "source": [
    "with Hooks(learn.model, append_stats) as hooks:\n",
    "    run.fit(1, learn)\n",
    "    fig, (ax0, ax1) = plt.subplots(1, 2, figsize=(10, 4))\n",
    "    for h in hooks[:-1]:\n",
    "        ms, ss = h.stats\n",
    "        ax0.plot(ms[:10])\n",
    "        ax1.plot(ss[:10])\n",
    "        h.remove()\n",
    "    plt.legend(range(6))\n",
    "    \n",
    "    fig, (ax0, ax1) = plt.subplots(1, 2, figsize=(10,4))\n",
    "    for h in hooks[:-1]:\n",
    "        ms, ss = h.stats\n",
    "        ax0.plot(ms)\n",
    "        ax1.plot(ss)"
   ]
  },
  {
   "cell_type": "markdown",
   "metadata": {},
   "source": [
    "get rid of exponential growth and flutuation"
   ]
  },
  {
   "cell_type": "code",
   "execution_count": 13,
   "metadata": {},
   "outputs": [
    {
     "name": "stdout",
     "output_type": "stream",
     "text": [
      "train : [0.266460390625, tensor(0.9169, device='cuda:0')]\n",
      "valid : [0.14043699951171876, tensor(0.9575, device='cuda:0')]\n",
      "train : [0.08572482421875, tensor(0.9738, device='cuda:0')]\n",
      "valid : [0.1782462158203125, tensor(0.9458, device='cuda:0')]\n",
      "train : [0.06313470703125, tensor(0.9807, device='cuda:0')]\n",
      "valid : [0.0921781982421875, tensor(0.9728, device='cuda:0')]\n",
      "CPU times: user 3.6 s, sys: 651 ms, total: 4.25 s\n",
      "Wall time: 4.26 s\n"
     ]
    }
   ],
   "source": [
    "learn, run = get_learn_run(nfs, data, 1.0, conv_layer, cbs=cbfs)\n",
    "%time run.fit(3, learn)"
   ]
  },
  {
   "cell_type": "markdown",
   "metadata": {},
   "source": [
    "# Builtin batchnorm"
   ]
  },
  {
   "cell_type": "code",
   "execution_count": 14,
   "metadata": {},
   "outputs": [],
   "source": [
    "#export\n",
    "def conv_layer(ni, nf, ks=3, stride=2, bn=True, **kwargs):\n",
    "    layers = [nn.Conv2d(ni, nf, ks, padding=ks//2, stride=stride, bias= not bn), \n",
    "             GeneralRelu(**kwargs)]\n",
    "    if bn: layers.append(nn.BatchNorm2d(nf, eps=1e-5, momentum=0.1))\n",
    "    return nn.Sequential(*layers)"
   ]
  },
  {
   "cell_type": "code",
   "execution_count": 15,
   "metadata": {},
   "outputs": [],
   "source": [
    "learn, run = get_learn_run(nfs, data, 1., conv_layer, cbs=cbfs)"
   ]
  },
  {
   "cell_type": "code",
   "execution_count": 16,
   "metadata": {},
   "outputs": [
    {
     "name": "stdout",
     "output_type": "stream",
     "text": [
      "train : [0.29454283203125, tensor(0.9111, device='cuda:0')]\n",
      "valid : [0.1196935546875, tensor(0.9633, device='cuda:0')]\n",
      "train : [0.078599609375, tensor(0.9758, device='cuda:0')]\n",
      "valid : [0.077737109375, tensor(0.9775, device='cuda:0')]\n",
      "train : [0.054637353515625, tensor(0.9824, device='cuda:0')]\n",
      "valid : [0.0653551025390625, tensor(0.9797, device='cuda:0')]\n",
      "CPU times: user 3.5 s, sys: 526 ms, total: 4.03 s\n",
      "Wall time: 4.03 s\n"
     ]
    }
   ],
   "source": [
    "%time run.fit(3, learn)"
   ]
  },
  {
   "cell_type": "markdown",
   "metadata": {},
   "source": [
    "# With scheduler\n",
    "\n",
    "warm-up / annealing"
   ]
  },
  {
   "cell_type": "code",
   "execution_count": 17,
   "metadata": {},
   "outputs": [],
   "source": [
    "sched = combine_scheds([0.3, 0.7], [sched_lin(0.6, 2.), sched_lin(2., 0.1)])"
   ]
  },
  {
   "cell_type": "code",
   "execution_count": 18,
   "metadata": {},
   "outputs": [],
   "source": [
    "learn, run = get_learn_run(nfs, data, 0.9, \n",
    "                           conv_layer, \n",
    "                           cbs=cbfs +[partial(ParamScheduler, 'lr', sched)])"
   ]
  },
  {
   "cell_type": "code",
   "execution_count": 19,
   "metadata": {},
   "outputs": [
    {
     "name": "stdout",
     "output_type": "stream",
     "text": [
      "train : [0.3142554296875, tensor(0.9103, device='cuda:0')]\n",
      "valid : [0.2295749267578125, tensor(0.9264, device='cuda:0')]\n",
      "train : [0.091090478515625, tensor(0.9714, device='cuda:0')]\n",
      "valid : [0.121958447265625, tensor(0.9630, device='cuda:0')]\n",
      "train : [0.0692858056640625, tensor(0.9781, device='cuda:0')]\n",
      "valid : [0.06428311157226563, tensor(0.9793, device='cuda:0')]\n",
      "train : [0.0425510791015625, tensor(0.9869, device='cuda:0')]\n",
      "valid : [0.05408426513671875, tensor(0.9832, device='cuda:0')]\n",
      "train : [0.0285515478515625, tensor(0.9908, device='cuda:0')]\n",
      "valid : [0.04578826293945312, tensor(0.9865, device='cuda:0')]\n",
      "train : [0.01922178466796875, tensor(0.9942, device='cuda:0')]\n",
      "valid : [0.04831788330078125, tensor(0.9853, device='cuda:0')]\n",
      "train : [0.012556260986328125, tensor(0.9967, device='cuda:0')]\n",
      "valid : [0.044817352294921876, tensor(0.9877, device='cuda:0')]\n",
      "train : [0.0088266552734375, tensor(0.9981, device='cuda:0')]\n",
      "valid : [0.043478924560546875, tensor(0.9878, device='cuda:0')]\n"
     ]
    }
   ],
   "source": [
    "run.fit(8, learn)"
   ]
  },
  {
   "cell_type": "markdown",
   "metadata": {},
   "source": [
    "# More norms\n",
    "\n",
    "# Layer norm\n",
    "batch normalization cannot be applied to online learning tasks or to extremely large distributed models where the minibatches have to be small\n",
    "\n",
    "The difference with BatchNorm is\n",
    "\n",
    "1. we don't keep a moving average\n",
    "\n",
    "2. we don't average over the batches dimension but over the hidden dimension, so it's independent of the batch size"
   ]
  },
  {
   "cell_type": "code",
   "execution_count": 20,
   "metadata": {},
   "outputs": [],
   "source": [
    "class LayerNorm(nn.Module):\n",
    "    __constants__ = ['eps']\n",
    "    def __init__(self, eps=1e-5):\n",
    "        super().__init__()\n",
    "        self.eps = eps\n",
    "        self.mult = nn.Parameter(tensor(1.))\n",
    "        self.add = nn.Parameter(tensor(0.))\n",
    "        \n",
    "    def forward(self, x):\n",
    "        # average over (channel, length, width)\n",
    "        m = x.mean((1, 2, 3), keepdim=True)\n",
    "        v = x.var((1, 2, 3), keepdim=True)\n",
    "        x = (x-m) / ((v+self.eps).sqrt())\n",
    "        return x*self.mult + self.add"
   ]
  },
  {
   "cell_type": "code",
   "execution_count": 21,
   "metadata": {},
   "outputs": [],
   "source": [
    "def conv_ln(ni, nf, ks=3, stride=2, bn=True, **kwargs):\n",
    "    layers = [nn.Conv2d(ni, nf, ks, padding=ks//2, stride=stride, bias=True),\n",
    "             GeneralRelu(**kwargs)]\n",
    "    if bn: layers.append(LayerNorm())\n",
    "    return nn.Sequential(*layers)"
   ]
  },
  {
   "cell_type": "code",
   "execution_count": 22,
   "metadata": {},
   "outputs": [],
   "source": [
    "learn, run = get_learn_run(nfs, data, 0.8, conv_ln, cbs=cbfs)"
   ]
  },
  {
   "cell_type": "code",
   "execution_count": 23,
   "metadata": {},
   "outputs": [
    {
     "name": "stdout",
     "output_type": "stream",
     "text": [
      "train : [nan, tensor(0.1204, device='cuda:0')]\n",
      "valid : [nan, tensor(0.0991, device='cuda:0')]\n",
      "train : [nan, tensor(0.0986, device='cuda:0')]\n",
      "valid : [nan, tensor(0.0991, device='cuda:0')]\n",
      "train : [nan, tensor(0.0986, device='cuda:0')]\n",
      "valid : [nan, tensor(0.0991, device='cuda:0')]\n",
      "CPU times: user 4.27 s, sys: 678 ms, total: 4.94 s\n",
      "Wall time: 4.96 s\n"
     ]
    }
   ],
   "source": [
    "%time run.fit(3, learn)"
   ]
  },
  {
   "cell_type": "markdown",
   "metadata": {},
   "source": [
    "# Instance norm\n",
    "\n",
    "key difference between contrast and batch norm is that latter applies normalization to a whole batch of images instead of single ones:"
   ]
  },
  {
   "cell_type": "code",
   "execution_count": 24,
   "metadata": {},
   "outputs": [],
   "source": [
    "class InstanceNorm(nn.Module):\n",
    "    __constants__ = ['eps']\n",
    "    \n",
    "    def __init__(self, nf, eps=1e-0):\n",
    "        super().__init__()\n",
    "        self.eps = eps\n",
    "        self.mults = nn.Parameter(torch.ones(nf, 1, 1))\n",
    "        self.adds = nn.Parameter(torch.zeros(nf, 1, 1))\n",
    "\n",
    "\n",
    "    def forward(self, x):\n",
    "        m = x.mean((2, 3), keepdim=True)\n",
    "        v = x.var((2, 3), keepdim=True)\n",
    "        res = (x-m) / ((v+self.eps).sqrt())\n",
    "        return res*self.mults + self.adds"
   ]
  },
  {
   "cell_type": "code",
   "execution_count": 25,
   "metadata": {},
   "outputs": [],
   "source": [
    "def conv_in(ni, nf, ks=3, stride=2, bn=True, **kwargs):\n",
    "    layers = [nn.Conv2d(ni, nf, ks, padding=ks//2, stride=stride, bias=True),\n",
    "             GeneralRelu(**kwargs)]\n",
    "    if bn: layers.append(InstanceNorm(nf))\n",
    "    return nn.Sequential(*layers)"
   ]
  },
  {
   "cell_type": "code",
   "execution_count": 26,
   "metadata": {},
   "outputs": [],
   "source": [
    "learn, run = get_learn_run(nfs, data, 0.1, conv_in, cbs=cbfs)"
   ]
  },
  {
   "cell_type": "code",
   "execution_count": 27,
   "metadata": {},
   "outputs": [
    {
     "name": "stdout",
     "output_type": "stream",
     "text": [
      "train : [nan, tensor(0.0986, device='cuda:0')]\n",
      "valid : [nan, tensor(0.0991, device='cuda:0')]\n",
      "train : [nan, tensor(0.0986, device='cuda:0')]\n",
      "valid : [nan, tensor(0.0991, device='cuda:0')]\n",
      "train : [nan, tensor(0.0986, device='cuda:0')]\n",
      "valid : [nan, tensor(0.0991, device='cuda:0')]\n",
      "CPU times: user 4.28 s, sys: 696 ms, total: 4.98 s\n",
      "Wall time: 4.99 s\n"
     ]
    }
   ],
   "source": [
    "%time run.fit(3, learn)"
   ]
  },
  {
   "cell_type": "markdown",
   "metadata": {},
   "source": [
    "https://nbviewer.jupyter.org/github/fastai/course-v3/blob/master/nbs/dl2/images/norms.png"
   ]
  },
  {
   "cell_type": "markdown",
   "metadata": {},
   "source": [
    "# Group norm\n",
    "\n",
    "From the PyTorch docs:\n",
    "\n",
    "GroupNorm(num_groups, num_channels, eps=1e-5, affine=True)\n",
    "\n",
    "The input channels are separated into num_groups groups, each containing num_channels / num_groups channels. The mean and standard-deviation are calculated separately over the each group. γ\n",
    " and β\n",
    " are learnable per-channel affine transform parameter vectorss of size num_channels if affine is True.\n",
    "\n",
    "This layer uses statistics computed from input data in both training and evaluation modes.\n",
    "\n",
    "Args:\n",
    "\n",
    "- num_groups (int): number of groups to separate the channels into\n",
    "- num_channels (int): number of channels expected in input\n",
    "- eps: a value added to the denominator for numerical stability. Default: 1e-5\n",
    "- affine: a boolean value that when set to True, this module has learnable per-channel affine parameters initialized to ones (for weights) and zeros (for biases). Default: True.\n",
    "\n",
    "Shape:\n",
    "\n",
    "Input: (N, num_channels, *)\n",
    "\n",
    "Output: (N, num_channels, *) (same shape as input)\n",
    "\n",
    "Examples::\n",
    "\n",
    "```python\n",
    "input = torch.randn(20, 6, 10, 10)\n",
    "# Separate 6 channels into 3 groups\n",
    "m = nn.GroupNorm(3, 6)\n",
    "# Separate 6 channels into 6 groups (equivalent with InstanceNorm) \n",
    "m = nn.GroupNorm(6, 6)\n",
    "# Put all 6 channels into a single group (equivalent with LayerNorm)\n",
    "m = nn.GroupNorm(1, 6)\n",
    "# Activating the module\n",
    "output = m(input)\n",
    "```"
   ]
  },
  {
   "cell_type": "markdown",
   "metadata": {},
   "source": [
    "# Fix small batch sizes\n",
    "\n",
    "What's the problem?\n",
    "\n",
    "When we compute the statistics (mean and std) for a BatchNorm Layer on a small batch, it is possible that we get a standard deviation very close to 0. because there aren't many samples (the variance of one thing is 0. since it's equal to its mean)."
   ]
  },
  {
   "cell_type": "code",
   "execution_count": 28,
   "metadata": {},
   "outputs": [],
   "source": [
    "data = DataBunch(*get_dls(train_ds, valid_ds, 2), c)"
   ]
  },
  {
   "cell_type": "code",
   "execution_count": 29,
   "metadata": {},
   "outputs": [],
   "source": [
    "def conv_layer(ni, nf, ks=3, stride=2, bn=True, **kwargs):\n",
    "    layers = [nn.Conv2d(ni, nf, ks, padding=ks//2, stride=stride, bias=not bn),\n",
    "             GeneralRelu(**kwargs)]\n",
    "    if bn: layers.append(nn.BatchNorm2d(nf, eps=1e-5, momentum=0.1))\n",
    "    return nn.Sequential(*layers)"
   ]
  },
  {
   "cell_type": "code",
   "execution_count": 30,
   "metadata": {},
   "outputs": [],
   "source": [
    "learn, run = get_learn_run(nfs, data, 0.4, conv_layer, cbs=cbfs)"
   ]
  },
  {
   "cell_type": "code",
   "execution_count": 31,
   "metadata": {},
   "outputs": [
    {
     "name": "stdout",
     "output_type": "stream",
     "text": [
      "train : [2.32768921875, tensor(0.1771, device='cuda:0')]\n",
      "valid : [344214.7584, tensor(0.1630, device='cuda:0')]\n",
      "CPU times: user 59.3 s, sys: 658 ms, total: 60 s\n",
      "Wall time: 1min\n"
     ]
    }
   ],
   "source": [
    "%time run.fit(1, learn)"
   ]
  },
  {
   "cell_type": "markdown",
   "metadata": {},
   "source": [
    "low accuracy because small batch size, one channel and one layer, variance is very small, blows up the activation\n",
    "\n",
    "can use 0.1 as eps, so it only multiplies as 10, not 1000"
   ]
  },
  {
   "cell_type": "markdown",
   "metadata": {},
   "source": [
    "# Running Batch Norm\n",
    "\n",
    "to solve this problem, introduce a running batchnorm that uses smoother running mean and variance"
   ]
  },
  {
   "cell_type": "code",
   "execution_count": 44,
   "metadata": {},
   "outputs": [],
   "source": [
    "class RunningBatchNorm(nn.Module):\n",
    "    def __init__(self, nf, mom=0.1, eps=1e-5):\n",
    "        super().__init__()\n",
    "        self.mom, self.eps = mom, eps\n",
    "        self.mults = nn.Parameter(torch.ones(nf, 1, 1))\n",
    "        self.adds = nn.Parameter(torch.zeros(nf, 1, 1))\n",
    "        self.register_buffer('sums', torch.zeros(1, nf, 1, 1))\n",
    "        self.register_buffer('sqrs', torch.zeros(1, nf, 1, 1))\n",
    "        self.register_buffer('batch', tensor(0.))\n",
    "        self.register_buffer('count', tensor(0.))\n",
    "        self.register_buffer('step', tensor(0.))\n",
    "        self.register_buffer('dbias', tensor(0.))\n",
    "        \n",
    "    def update_stats(self, x):\n",
    "        bs, nc, *_ = x.shape\n",
    "        self.sums.detach_()\n",
    "        self.sqrs.detach_()\n",
    "        dims = (0, 2, 3)\n",
    "        s = x.sum(dims, keepdim=True)\n",
    "        ss = (x*x).sum(dims, keepdim=True)\n",
    "        # no of element in minibatch / channel\n",
    "        c = self.count.new_tensor(x.numel()/nc)\n",
    "        mom1 = 1 - (1-self.mom)/math.sqrt(bs-1)\n",
    "        # momentum\n",
    "        self.mom1 = self.dbias.new_tensor(mom1)\n",
    "        # running average\n",
    "        self.sums.lerp_(s, self.mom1)\n",
    "        self.sqrs.lerp_(ss, self.mom1)\n",
    "        self.count.lerp_(c, self.mom1)\n",
    "        # dbias*(1-mom) + mom\n",
    "        # dbias*(1-mom)^2 + mom \n",
    "        self.dbias = self.dbias*(1-self.mom1)+self.mom1\n",
    "        self.batch += bs\n",
    "        self.step += 1\n",
    "        \n",
    "    def forward(self, x):\n",
    "        # dont divide by batchsize\n",
    "        # dont subtract batch mean\n",
    "        # use moving average in training time\n",
    "        if self.training: self.update_stats(x)\n",
    "        sums = self.sums\n",
    "        sqrs = self.sqrs\n",
    "        # batch size\n",
    "        c = self.count\n",
    "        # 3. debiasing make sure no observation is weighted too high\n",
    "        # first point get too many weights\n",
    "        # intialize sum and sqrs as zero\n",
    "        \n",
    "        if self.step < 100:\n",
    "            sums = sums / self.dbias\n",
    "            sqrs = sqrs / self.dbias\n",
    "            c = c / self.dbias\n",
    "        # 2. divide by exponentially moving average of batchsize\n",
    "        means = sums / c\n",
    "        # 1. E[X^2] - E[X]^2\n",
    "        vars = (sqrs/c).sub_(means*means)\n",
    "        # 4. if bs<20, var at least 0.01\n",
    "        if bool(self.batch < 20): vars.clamp_min_(0.01)\n",
    "        x = (x-means).div_((vars.add_(self.eps)).sqrt())\n",
    "        return x.mul(self.mults).add_(self.adds)\n",
    "        "
   ]
  },
  {
   "cell_type": "code",
   "execution_count": 45,
   "metadata": {},
   "outputs": [],
   "source": [
    "# running batchnorm\n",
    "def conv_rbn(ni, nf, ks=3, stride=2, bn=True, **kwargs):\n",
    "    layers = [nn.Conv2d(ni, nf, ks, padding=ks//2, stride=stride, bias=not bn), GeneralRelu(**kwargs)]\n",
    "    if bn: layers.append(RunningBatchNorm(nf))\n",
    "    return nn.Sequential(*layers)\n",
    "    "
   ]
  },
  {
   "cell_type": "code",
   "execution_count": 46,
   "metadata": {},
   "outputs": [],
   "source": [
    "learn, run = get_learn_run(nfs, data, 0.4, conv_rbn, cbs=cbfs)"
   ]
  },
  {
   "cell_type": "code",
   "execution_count": 37,
   "metadata": {},
   "outputs": [
    {
     "name": "stdout",
     "output_type": "stream",
     "text": [
      "train : [0.594495546875, tensor(0.8317, device='cuda:0')]\n",
      "valid : [1.21184013671875, tensor(0.9198, device='cuda:0')]\n",
      "CPU times: user 2min 27s, sys: 977 ms, total: 2min 28s\n",
      "Wall time: 2min 29s\n"
     ]
    }
   ],
   "source": [
    "%time run.fit(1, learn)"
   ]
  },
  {
   "cell_type": "markdown",
   "metadata": {},
   "source": [
    "# What can we do in a single epoch?"
   ]
  },
  {
   "cell_type": "code",
   "execution_count": 38,
   "metadata": {},
   "outputs": [],
   "source": [
    "data = DataBunch(*get_dls(train_ds, valid_ds, 32), c)"
   ]
  },
  {
   "cell_type": "code",
   "execution_count": 40,
   "metadata": {},
   "outputs": [],
   "source": [
    "learn, run = get_learn_run(nfs, data, 0.9, conv_rbn, cbs=cbfs+[partial(ParamScheduler, 'lr', sched_lin(1., 0.2))])"
   ]
  },
  {
   "cell_type": "code",
   "execution_count": 41,
   "metadata": {},
   "outputs": [
    {
     "name": "stdout",
     "output_type": "stream",
     "text": [
      "train : [0.16124619140625, tensor(0.9510, device='cuda:0')]\n",
      "valid : [0.06281268920898438, tensor(0.9814, device='cuda:0')]\n",
      "CPU times: user 9.78 s, sys: 111 ms, total: 9.89 s\n",
      "Wall time: 9.96 s\n"
     ]
    }
   ],
   "source": [
    "%time run.fit(1, learn)"
   ]
  },
  {
   "cell_type": "markdown",
   "metadata": {},
   "source": [
    "# Export"
   ]
  },
  {
   "cell_type": "code",
   "execution_count": 42,
   "metadata": {},
   "outputs": [
    {
     "name": "stdout",
     "output_type": "stream",
     "text": [
      "Converted 07_batchnorm.ipynb to exp/nb_07.py\n"
     ]
    }
   ],
   "source": [
    "!python notebook2script.py 07_batchnorm.ipynb"
   ]
  },
  {
   "cell_type": "code",
   "execution_count": null,
   "metadata": {},
   "outputs": [],
   "source": []
  },
  {
   "cell_type": "code",
   "execution_count": null,
   "metadata": {},
   "outputs": [],
   "source": []
  },
  {
   "cell_type": "code",
   "execution_count": null,
   "metadata": {},
   "outputs": [],
   "source": []
  }
 ],
 "metadata": {
  "kernelspec": {
   "display_name": "Python 3",
   "language": "python",
   "name": "python3"
  },
  "language_info": {
   "codemirror_mode": {
    "name": "ipython",
    "version": 3
   },
   "file_extension": ".py",
   "mimetype": "text/x-python",
   "name": "python",
   "nbconvert_exporter": "python",
   "pygments_lexer": "ipython3",
   "version": "3.7.3"
  }
 },
 "nbformat": 4,
 "nbformat_minor": 4
}
